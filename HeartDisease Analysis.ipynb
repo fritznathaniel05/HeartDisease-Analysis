{
 "cells": [
  {
   "cell_type": "markdown",
   "id": "62a70924",
   "metadata": {},
   "source": [
    "# Mengimport Library yang Dibutuhkan"
   ]
  },
  {
   "cell_type": "code",
   "execution_count": 48,
   "id": "21798cef",
   "metadata": {},
   "outputs": [],
   "source": [
    "import pandas as pd\n",
    "import numpy as np\n",
    "import matplotlib.pyplot as plt\n",
    "%matplotlib inline\n",
    "import seaborn as sns"
   ]
  },
  {
   "cell_type": "markdown",
   "id": "e0e0ee10",
   "metadata": {},
   "source": [
    "# Membaca File CSV\n"
   ]
  },
  {
   "cell_type": "code",
   "execution_count": 49,
   "id": "17bd610d",
   "metadata": {},
   "outputs": [],
   "source": [
    "df = pd.read_csv('heart.csv')"
   ]
  },
  {
   "cell_type": "markdown",
   "id": "36f33ae6",
   "metadata": {},
   "source": [
    "# Gambaran Data\n"
   ]
  },
  {
   "cell_type": "markdown",
   "id": "f58cbaa2",
   "metadata": {},
   "source": [
    "#### Pernyataan Masalah\n",
    "\n",
    "Penyakit kardiovaskular (CVDs) adalah penyebab kematian nomor 1 secara global, mengambil sekitar 17,9 juta jiwa setiap tahun, yang menyumbang 31% dari semua kematian di seluruh dunia. Empat dari 5CVD kematian disebabkan oleh serangan jantung dan stroke, dan sepertiga dari kematian ini terjadi sebelum waktunya pada orang di bawah usia 70 tahun. Gagal jantung adalah kejadian umum yang disebabkan oleh CVD dan kumpulan data ini berisi 11 fitur yang dapat digunakan untuk memprediksi kemungkinan penyakit jantung.\n",
    "\n",
    "Orang dengan penyakit kardiovaskular atau yang berada pada risiko kardiovaskular tinggi (karena adanya satu atau lebih faktor risiko seperti hipertensi, diabetes, hiperlipidemia atau penyakit yang sudah ada) memerlukan deteksi dan manajemen dini di mana model pembelajaran mesin dapat sangat membantu.\n",
    "\n",
    "### Target\n",
    "\n",
    "Membaca dan memahami tentang jumlah masalah jantung bedasarkan data"
   ]
  },
  {
   "cell_type": "code",
   "execution_count": 50,
   "id": "4069dd0f",
   "metadata": {},
   "outputs": [
    {
     "data": {
      "text/html": [
       "<div>\n",
       "<style scoped>\n",
       "    .dataframe tbody tr th:only-of-type {\n",
       "        vertical-align: middle;\n",
       "    }\n",
       "\n",
       "    .dataframe tbody tr th {\n",
       "        vertical-align: top;\n",
       "    }\n",
       "\n",
       "    .dataframe thead th {\n",
       "        text-align: right;\n",
       "    }\n",
       "</style>\n",
       "<table border=\"1\" class=\"dataframe\">\n",
       "  <thead>\n",
       "    <tr style=\"text-align: right;\">\n",
       "      <th></th>\n",
       "      <th>Age</th>\n",
       "      <th>Sex</th>\n",
       "      <th>ChestPainType</th>\n",
       "      <th>RestingBP</th>\n",
       "      <th>Cholesterol</th>\n",
       "      <th>FastingBS</th>\n",
       "      <th>RestingECG</th>\n",
       "      <th>MaxHR</th>\n",
       "      <th>ExerciseAngina</th>\n",
       "      <th>Oldpeak</th>\n",
       "      <th>ST_Slope</th>\n",
       "      <th>HeartDisease</th>\n",
       "    </tr>\n",
       "  </thead>\n",
       "  <tbody>\n",
       "    <tr>\n",
       "      <th>0</th>\n",
       "      <td>40</td>\n",
       "      <td>M</td>\n",
       "      <td>ATA</td>\n",
       "      <td>140</td>\n",
       "      <td>289</td>\n",
       "      <td>0</td>\n",
       "      <td>Normal</td>\n",
       "      <td>172</td>\n",
       "      <td>N</td>\n",
       "      <td>0.0</td>\n",
       "      <td>Up</td>\n",
       "      <td>0</td>\n",
       "    </tr>\n",
       "    <tr>\n",
       "      <th>1</th>\n",
       "      <td>49</td>\n",
       "      <td>F</td>\n",
       "      <td>NAP</td>\n",
       "      <td>160</td>\n",
       "      <td>180</td>\n",
       "      <td>0</td>\n",
       "      <td>Normal</td>\n",
       "      <td>156</td>\n",
       "      <td>N</td>\n",
       "      <td>1.0</td>\n",
       "      <td>Flat</td>\n",
       "      <td>1</td>\n",
       "    </tr>\n",
       "    <tr>\n",
       "      <th>2</th>\n",
       "      <td>37</td>\n",
       "      <td>M</td>\n",
       "      <td>ATA</td>\n",
       "      <td>130</td>\n",
       "      <td>283</td>\n",
       "      <td>0</td>\n",
       "      <td>ST</td>\n",
       "      <td>98</td>\n",
       "      <td>N</td>\n",
       "      <td>0.0</td>\n",
       "      <td>Up</td>\n",
       "      <td>0</td>\n",
       "    </tr>\n",
       "    <tr>\n",
       "      <th>3</th>\n",
       "      <td>48</td>\n",
       "      <td>F</td>\n",
       "      <td>ASY</td>\n",
       "      <td>138</td>\n",
       "      <td>214</td>\n",
       "      <td>0</td>\n",
       "      <td>Normal</td>\n",
       "      <td>108</td>\n",
       "      <td>Y</td>\n",
       "      <td>1.5</td>\n",
       "      <td>Flat</td>\n",
       "      <td>1</td>\n",
       "    </tr>\n",
       "    <tr>\n",
       "      <th>4</th>\n",
       "      <td>54</td>\n",
       "      <td>M</td>\n",
       "      <td>NAP</td>\n",
       "      <td>150</td>\n",
       "      <td>195</td>\n",
       "      <td>0</td>\n",
       "      <td>Normal</td>\n",
       "      <td>122</td>\n",
       "      <td>N</td>\n",
       "      <td>0.0</td>\n",
       "      <td>Up</td>\n",
       "      <td>0</td>\n",
       "    </tr>\n",
       "  </tbody>\n",
       "</table>\n",
       "</div>"
      ],
      "text/plain": [
       "   Age Sex ChestPainType  RestingBP  Cholesterol  FastingBS RestingECG  MaxHR  \\\n",
       "0   40   M           ATA        140          289          0     Normal    172   \n",
       "1   49   F           NAP        160          180          0     Normal    156   \n",
       "2   37   M           ATA        130          283          0         ST     98   \n",
       "3   48   F           ASY        138          214          0     Normal    108   \n",
       "4   54   M           NAP        150          195          0     Normal    122   \n",
       "\n",
       "  ExerciseAngina  Oldpeak ST_Slope  HeartDisease  \n",
       "0              N      0.0       Up             0  \n",
       "1              N      1.0     Flat             1  \n",
       "2              N      0.0       Up             0  \n",
       "3              Y      1.5     Flat             1  \n",
       "4              N      0.0       Up             0  "
      ]
     },
     "execution_count": 50,
     "metadata": {},
     "output_type": "execute_result"
    }
   ],
   "source": [
    "df.head()"
   ]
  },
  {
   "cell_type": "code",
   "execution_count": 51,
   "id": "2105a9ca",
   "metadata": {},
   "outputs": [
    {
     "name": "stdout",
     "output_type": "stream",
     "text": [
      "<class 'pandas.core.frame.DataFrame'>\n",
      "RangeIndex: 918 entries, 0 to 917\n",
      "Data columns (total 12 columns):\n",
      " #   Column          Non-Null Count  Dtype  \n",
      "---  ------          --------------  -----  \n",
      " 0   Age             918 non-null    int64  \n",
      " 1   Sex             918 non-null    object \n",
      " 2   ChestPainType   918 non-null    object \n",
      " 3   RestingBP       918 non-null    int64  \n",
      " 4   Cholesterol     918 non-null    int64  \n",
      " 5   FastingBS       918 non-null    int64  \n",
      " 6   RestingECG      918 non-null    object \n",
      " 7   MaxHR           918 non-null    int64  \n",
      " 8   ExerciseAngina  918 non-null    object \n",
      " 9   Oldpeak         918 non-null    float64\n",
      " 10  ST_Slope        918 non-null    object \n",
      " 11  HeartDisease    918 non-null    int64  \n",
      "dtypes: float64(1), int64(6), object(5)\n",
      "memory usage: 86.2+ KB\n"
     ]
    }
   ],
   "source": [
    "df.info()"
   ]
  },
  {
   "cell_type": "code",
   "execution_count": 52,
   "id": "bad09bab",
   "metadata": {},
   "outputs": [
    {
     "data": {
      "text/html": [
       "<div>\n",
       "<style scoped>\n",
       "    .dataframe tbody tr th:only-of-type {\n",
       "        vertical-align: middle;\n",
       "    }\n",
       "\n",
       "    .dataframe tbody tr th {\n",
       "        vertical-align: top;\n",
       "    }\n",
       "\n",
       "    .dataframe thead th {\n",
       "        text-align: right;\n",
       "    }\n",
       "</style>\n",
       "<table border=\"1\" class=\"dataframe\">\n",
       "  <thead>\n",
       "    <tr style=\"text-align: right;\">\n",
       "      <th></th>\n",
       "      <th>count</th>\n",
       "      <th>mean</th>\n",
       "      <th>std</th>\n",
       "      <th>min</th>\n",
       "      <th>25%</th>\n",
       "      <th>50%</th>\n",
       "      <th>75%</th>\n",
       "      <th>max</th>\n",
       "    </tr>\n",
       "  </thead>\n",
       "  <tbody>\n",
       "    <tr>\n",
       "      <th>Age</th>\n",
       "      <td>918.0</td>\n",
       "      <td>53.510893</td>\n",
       "      <td>9.432617</td>\n",
       "      <td>28.0</td>\n",
       "      <td>47.00</td>\n",
       "      <td>54.0</td>\n",
       "      <td>60.0</td>\n",
       "      <td>77.0</td>\n",
       "    </tr>\n",
       "    <tr>\n",
       "      <th>RestingBP</th>\n",
       "      <td>918.0</td>\n",
       "      <td>132.396514</td>\n",
       "      <td>18.514154</td>\n",
       "      <td>0.0</td>\n",
       "      <td>120.00</td>\n",
       "      <td>130.0</td>\n",
       "      <td>140.0</td>\n",
       "      <td>200.0</td>\n",
       "    </tr>\n",
       "    <tr>\n",
       "      <th>Cholesterol</th>\n",
       "      <td>918.0</td>\n",
       "      <td>198.799564</td>\n",
       "      <td>109.384145</td>\n",
       "      <td>0.0</td>\n",
       "      <td>173.25</td>\n",
       "      <td>223.0</td>\n",
       "      <td>267.0</td>\n",
       "      <td>603.0</td>\n",
       "    </tr>\n",
       "    <tr>\n",
       "      <th>FastingBS</th>\n",
       "      <td>918.0</td>\n",
       "      <td>0.233115</td>\n",
       "      <td>0.423046</td>\n",
       "      <td>0.0</td>\n",
       "      <td>0.00</td>\n",
       "      <td>0.0</td>\n",
       "      <td>0.0</td>\n",
       "      <td>1.0</td>\n",
       "    </tr>\n",
       "    <tr>\n",
       "      <th>MaxHR</th>\n",
       "      <td>918.0</td>\n",
       "      <td>136.809368</td>\n",
       "      <td>25.460334</td>\n",
       "      <td>60.0</td>\n",
       "      <td>120.00</td>\n",
       "      <td>138.0</td>\n",
       "      <td>156.0</td>\n",
       "      <td>202.0</td>\n",
       "    </tr>\n",
       "    <tr>\n",
       "      <th>Oldpeak</th>\n",
       "      <td>918.0</td>\n",
       "      <td>0.887364</td>\n",
       "      <td>1.066570</td>\n",
       "      <td>-2.6</td>\n",
       "      <td>0.00</td>\n",
       "      <td>0.6</td>\n",
       "      <td>1.5</td>\n",
       "      <td>6.2</td>\n",
       "    </tr>\n",
       "    <tr>\n",
       "      <th>HeartDisease</th>\n",
       "      <td>918.0</td>\n",
       "      <td>0.553377</td>\n",
       "      <td>0.497414</td>\n",
       "      <td>0.0</td>\n",
       "      <td>0.00</td>\n",
       "      <td>1.0</td>\n",
       "      <td>1.0</td>\n",
       "      <td>1.0</td>\n",
       "    </tr>\n",
       "  </tbody>\n",
       "</table>\n",
       "</div>"
      ],
      "text/plain": [
       "              count        mean         std   min     25%    50%    75%    max\n",
       "Age           918.0   53.510893    9.432617  28.0   47.00   54.0   60.0   77.0\n",
       "RestingBP     918.0  132.396514   18.514154   0.0  120.00  130.0  140.0  200.0\n",
       "Cholesterol   918.0  198.799564  109.384145   0.0  173.25  223.0  267.0  603.0\n",
       "FastingBS     918.0    0.233115    0.423046   0.0    0.00    0.0    0.0    1.0\n",
       "MaxHR         918.0  136.809368   25.460334  60.0  120.00  138.0  156.0  202.0\n",
       "Oldpeak       918.0    0.887364    1.066570  -2.6    0.00    0.6    1.5    6.2\n",
       "HeartDisease  918.0    0.553377    0.497414   0.0    0.00    1.0    1.0    1.0"
      ]
     },
     "execution_count": 52,
     "metadata": {},
     "output_type": "execute_result"
    }
   ],
   "source": [
    "df.describe().T"
   ]
  },
  {
   "cell_type": "markdown",
   "id": "a827cd21",
   "metadata": {},
   "source": [
    "### Informasi kolom dan data\n",
    "1. Age: Umur pasien (dalam tahun)\n",
    "2. Sex: Jenis kelamin pasien (M = Laki-laki | F = Perempuan)\n",
    "3. ChestPainType: Jenis nyeri dada (TA: Typical Angina, ATA: Atypical Angina, NAP: Non-Anginal Pain, ASY: Asymptomatic)\n",
    "4. RestingBP: Tekanan darah saat beristirahat (mm Hg)\n",
    "5. Cholesterol: Serum Kolesterol (mm/dl)\n",
    "6. FastingBS: Tekanan darah puasa (1: Jika FastingBS > 120 mg/dl, 0: otherwise)\n",
    "7. RestingECG: Hasil elektrokardiogram istirahat (Normal: Normal, ST: memiliki kelainan gelombang ST-T (inversi gelombang T dan/atau elevasi atau depresi ST > 0,05 mV), LVH: menunjukkan kemungkinan atau pasti hipertrofi ventrikel kiri menurut kriteria Estes)\n",
    "8. MaxHR: Detak Jantung Maksimum [Numeric value]\n",
    "9. ExerciseAngina: exercise-induced angina / angina akibat olahraga [Y: Yes, N: No]\n",
    "10. Oldpeak: oldpeak = ST [Numeric value measured in depression]\n",
    "11. ST_Slope: kemiringan segmen ST latihan puncak [Up: upsloping, Flat: flat, Down: downsloping]\n",
    "12. HeartDisease: output class [1: heart disease, 0: Normal]\n",
    "\n",
    "### Poin Penting\n",
    "* ada data yang tidak valid karena memiliki nilai minimum 0, yaitu di attribute RestingBP dan Cholesterol\n",
    "* ada data yang tidak valid karena memiliki nilai negatif, yaitu di attribute OldPeak"
   ]
  },
  {
   "cell_type": "markdown",
   "id": "a8d0f3c9",
   "metadata": {},
   "source": [
    "# Data Cleaning"
   ]
  },
  {
   "cell_type": "code",
   "execution_count": 53,
   "id": "e6f26355",
   "metadata": {},
   "outputs": [
    {
     "data": {
      "text/plain": [
       "Age               0\n",
       "Sex               0\n",
       "ChestPainType     0\n",
       "RestingBP         0\n",
       "Cholesterol       0\n",
       "FastingBS         0\n",
       "RestingECG        0\n",
       "MaxHR             0\n",
       "ExerciseAngina    0\n",
       "Oldpeak           0\n",
       "ST_Slope          0\n",
       "HeartDisease      0\n",
       "dtype: int64"
      ]
     },
     "execution_count": 53,
     "metadata": {},
     "output_type": "execute_result"
    }
   ],
   "source": [
    "df.isnull().sum()"
   ]
  },
  {
   "cell_type": "code",
   "execution_count": 54,
   "id": "0767e425",
   "metadata": {},
   "outputs": [
    {
     "name": "stdout",
     "output_type": "stream",
     "text": [
      "Data RestingBP yang tidak valid = 1\n",
      "Data Cholesterol yang tidak valid = 172\n",
      "Data Oldpeak yang tidak valid = 13\n",
      "Persentase Data RestingBP yang tidak valid = 0.10893246187363835 %\n",
      "Persentase Data Cholesterol yang tidak valid = 18.736383442265794 %\n",
      "Persentase Data Oldpeak yang tidak valid = 1.4161220043572984 %\n"
     ]
    }
   ],
   "source": [
    "df_1 = df[df[\"RestingBP\"] == 0]\n",
    "print(\"Data RestingBP yang tidak valid =\", df_1[\"RestingBP\"].count())\n",
    "df_2 = df[df[\"Cholesterol\"] == 0]\n",
    "print(\"Data Cholesterol yang tidak valid =\", df_2[\"Cholesterol\"].count())\n",
    "df_3 = df[df[\"Oldpeak\"] < 0]\n",
    "print(\"Data Oldpeak yang tidak valid =\", df_3[\"Oldpeak\"].count())\n",
    "\n",
    "print(\"Persentase Data RestingBP yang tidak valid =\", df_1[\"RestingBP\"].count()*100/918, \"%\")\n",
    "print(\"Persentase Data Cholesterol yang tidak valid =\", df_2[\"Cholesterol\"].count()*100/918, \"%\")\n",
    "print(\"Persentase Data Oldpeak yang tidak valid =\", df_3[\"Oldpeak\"].count()*100/918, \"%\")"
   ]
  },
  {
   "cell_type": "code",
   "execution_count": 55,
   "id": "ca8a92ed",
   "metadata": {},
   "outputs": [
    {
     "name": "stdout",
     "output_type": "stream",
     "text": [
      "12\n"
     ]
    }
   ],
   "source": [
    "df_4 = df[(df[\"Oldpeak\"] < 0) & (df[\"Cholesterol\"] == 0)]\n",
    "print(df_4[\"Oldpeak\"].count())"
   ]
  },
  {
   "cell_type": "markdown",
   "id": "8557a737",
   "metadata": {},
   "source": [
    "* Karena ada 12 data yang data Cholesterol nya juga tidak valid dari 13 data dimana oldpeak bernilai negatif, maka bila kita menghapus semua data yang tidak valid jumlah nya tidak akan lebih dari 20% total data\n",
    "* Karena itu data yang tidak valid akan dihilangkan"
   ]
  },
  {
   "cell_type": "code",
   "execution_count": 56,
   "id": "713d6c27",
   "metadata": {},
   "outputs": [
    {
     "data": {
      "text/plain": [
       "Age                 0\n",
       "Sex                 0\n",
       "ChestPainType       0\n",
       "RestingBP           1\n",
       "Cholesterol       172\n",
       "FastingBS           0\n",
       "RestingECG          0\n",
       "MaxHR               0\n",
       "ExerciseAngina      0\n",
       "Oldpeak             0\n",
       "ST_Slope            0\n",
       "HeartDisease        0\n",
       "dtype: int64"
      ]
     },
     "execution_count": 56,
     "metadata": {},
     "output_type": "execute_result"
    }
   ],
   "source": [
    "#Mengganti nilai 0 menjadi null value\n",
    "df[[\"RestingBP\", \"Cholesterol\"]] = \\\n",
    "    df[[\"RestingBP\", \"Cholesterol\"]].replace(0, np.NaN)\n",
    "df.isnull().sum()"
   ]
  },
  {
   "cell_type": "code",
   "execution_count": 57,
   "id": "af1eebf2",
   "metadata": {},
   "outputs": [
    {
     "data": {
      "text/plain": [
       "(746, 12)"
      ]
     },
     "execution_count": 57,
     "metadata": {},
     "output_type": "execute_result"
    }
   ],
   "source": [
    "#Menghilangkan null value\n",
    "df = df.dropna()\n",
    "df.shape"
   ]
  },
  {
   "cell_type": "code",
   "execution_count": 58,
   "id": "be4df25e",
   "metadata": {},
   "outputs": [
    {
     "data": {
      "text/html": [
       "<div>\n",
       "<style scoped>\n",
       "    .dataframe tbody tr th:only-of-type {\n",
       "        vertical-align: middle;\n",
       "    }\n",
       "\n",
       "    .dataframe tbody tr th {\n",
       "        vertical-align: top;\n",
       "    }\n",
       "\n",
       "    .dataframe thead th {\n",
       "        text-align: right;\n",
       "    }\n",
       "</style>\n",
       "<table border=\"1\" class=\"dataframe\">\n",
       "  <thead>\n",
       "    <tr style=\"text-align: right;\">\n",
       "      <th></th>\n",
       "      <th>Age</th>\n",
       "      <th>Sex</th>\n",
       "      <th>ChestPainType</th>\n",
       "      <th>RestingBP</th>\n",
       "      <th>Cholesterol</th>\n",
       "      <th>FastingBS</th>\n",
       "      <th>RestingECG</th>\n",
       "      <th>MaxHR</th>\n",
       "      <th>ExerciseAngina</th>\n",
       "      <th>Oldpeak</th>\n",
       "      <th>ST_Slope</th>\n",
       "      <th>HeartDisease</th>\n",
       "    </tr>\n",
       "  </thead>\n",
       "  <tbody>\n",
       "    <tr>\n",
       "      <th>512</th>\n",
       "      <td>35</td>\n",
       "      <td>M</td>\n",
       "      <td>NAP</td>\n",
       "      <td>123.0</td>\n",
       "      <td>161.0</td>\n",
       "      <td>0</td>\n",
       "      <td>ST</td>\n",
       "      <td>153</td>\n",
       "      <td>N</td>\n",
       "      <td>-0.1</td>\n",
       "      <td>Up</td>\n",
       "      <td>0</td>\n",
       "    </tr>\n",
       "  </tbody>\n",
       "</table>\n",
       "</div>"
      ],
      "text/plain": [
       "     Age Sex ChestPainType  RestingBP  Cholesterol  FastingBS RestingECG  \\\n",
       "512   35   M           NAP      123.0        161.0          0         ST   \n",
       "\n",
       "     MaxHR ExerciseAngina  Oldpeak ST_Slope  HeartDisease  \n",
       "512    153              N     -0.1       Up             0  "
      ]
     },
     "execution_count": 58,
     "metadata": {},
     "output_type": "execute_result"
    }
   ],
   "source": [
    "#Mencari indeks yang Oldpeak nya masih negatif\n",
    "df_3 = df[df[\"Oldpeak\"] < 0]\n",
    "df_3"
   ]
  },
  {
   "cell_type": "code",
   "execution_count": 59,
   "id": "6879bf63",
   "metadata": {},
   "outputs": [
    {
     "data": {
      "text/plain": [
       "(745, 12)"
      ]
     },
     "execution_count": 59,
     "metadata": {},
     "output_type": "execute_result"
    }
   ],
   "source": [
    "#Menghilangkan value Oldpeak negatif\n",
    "df.drop([512], axis = 0, inplace = True)\n",
    "df.shape"
   ]
  },
  {
   "cell_type": "code",
   "execution_count": 60,
   "id": "12eba5b0",
   "metadata": {},
   "outputs": [
    {
     "data": {
      "text/html": [
       "<div>\n",
       "<style scoped>\n",
       "    .dataframe tbody tr th:only-of-type {\n",
       "        vertical-align: middle;\n",
       "    }\n",
       "\n",
       "    .dataframe tbody tr th {\n",
       "        vertical-align: top;\n",
       "    }\n",
       "\n",
       "    .dataframe thead th {\n",
       "        text-align: right;\n",
       "    }\n",
       "</style>\n",
       "<table border=\"1\" class=\"dataframe\">\n",
       "  <thead>\n",
       "    <tr style=\"text-align: right;\">\n",
       "      <th></th>\n",
       "      <th>count</th>\n",
       "      <th>mean</th>\n",
       "      <th>std</th>\n",
       "      <th>min</th>\n",
       "      <th>25%</th>\n",
       "      <th>50%</th>\n",
       "      <th>75%</th>\n",
       "      <th>max</th>\n",
       "    </tr>\n",
       "  </thead>\n",
       "  <tbody>\n",
       "    <tr>\n",
       "      <th>Age</th>\n",
       "      <td>745.0</td>\n",
       "      <td>52.906040</td>\n",
       "      <td>9.489625</td>\n",
       "      <td>28.0</td>\n",
       "      <td>46.0</td>\n",
       "      <td>54.0</td>\n",
       "      <td>59.0</td>\n",
       "      <td>77.0</td>\n",
       "    </tr>\n",
       "    <tr>\n",
       "      <th>RestingBP</th>\n",
       "      <td>745.0</td>\n",
       "      <td>133.036242</td>\n",
       "      <td>17.290451</td>\n",
       "      <td>92.0</td>\n",
       "      <td>120.0</td>\n",
       "      <td>130.0</td>\n",
       "      <td>140.0</td>\n",
       "      <td>200.0</td>\n",
       "    </tr>\n",
       "    <tr>\n",
       "      <th>Cholesterol</th>\n",
       "      <td>745.0</td>\n",
       "      <td>244.747651</td>\n",
       "      <td>59.113689</td>\n",
       "      <td>85.0</td>\n",
       "      <td>208.0</td>\n",
       "      <td>237.0</td>\n",
       "      <td>275.0</td>\n",
       "      <td>603.0</td>\n",
       "    </tr>\n",
       "    <tr>\n",
       "      <th>FastingBS</th>\n",
       "      <td>745.0</td>\n",
       "      <td>0.167785</td>\n",
       "      <td>0.373927</td>\n",
       "      <td>0.0</td>\n",
       "      <td>0.0</td>\n",
       "      <td>0.0</td>\n",
       "      <td>0.0</td>\n",
       "      <td>1.0</td>\n",
       "    </tr>\n",
       "    <tr>\n",
       "      <th>MaxHR</th>\n",
       "      <td>745.0</td>\n",
       "      <td>140.209396</td>\n",
       "      <td>24.536108</td>\n",
       "      <td>69.0</td>\n",
       "      <td>122.0</td>\n",
       "      <td>140.0</td>\n",
       "      <td>160.0</td>\n",
       "      <td>202.0</td>\n",
       "    </tr>\n",
       "    <tr>\n",
       "      <th>Oldpeak</th>\n",
       "      <td>745.0</td>\n",
       "      <td>0.902953</td>\n",
       "      <td>1.072953</td>\n",
       "      <td>0.0</td>\n",
       "      <td>0.0</td>\n",
       "      <td>0.5</td>\n",
       "      <td>1.5</td>\n",
       "      <td>6.2</td>\n",
       "    </tr>\n",
       "    <tr>\n",
       "      <th>HeartDisease</th>\n",
       "      <td>745.0</td>\n",
       "      <td>0.477852</td>\n",
       "      <td>0.499845</td>\n",
       "      <td>0.0</td>\n",
       "      <td>0.0</td>\n",
       "      <td>0.0</td>\n",
       "      <td>1.0</td>\n",
       "      <td>1.0</td>\n",
       "    </tr>\n",
       "  </tbody>\n",
       "</table>\n",
       "</div>"
      ],
      "text/plain": [
       "              count        mean        std   min    25%    50%    75%    max\n",
       "Age           745.0   52.906040   9.489625  28.0   46.0   54.0   59.0   77.0\n",
       "RestingBP     745.0  133.036242  17.290451  92.0  120.0  130.0  140.0  200.0\n",
       "Cholesterol   745.0  244.747651  59.113689  85.0  208.0  237.0  275.0  603.0\n",
       "FastingBS     745.0    0.167785   0.373927   0.0    0.0    0.0    0.0    1.0\n",
       "MaxHR         745.0  140.209396  24.536108  69.0  122.0  140.0  160.0  202.0\n",
       "Oldpeak       745.0    0.902953   1.072953   0.0    0.0    0.5    1.5    6.2\n",
       "HeartDisease  745.0    0.477852   0.499845   0.0    0.0    0.0    1.0    1.0"
      ]
     },
     "execution_count": 60,
     "metadata": {},
     "output_type": "execute_result"
    }
   ],
   "source": [
    "df.describe().T"
   ]
  },
  {
   "cell_type": "code",
   "execution_count": 61,
   "id": "7dab7238",
   "metadata": {},
   "outputs": [
    {
     "data": {
      "text/html": [
       "<div>\n",
       "<style scoped>\n",
       "    .dataframe tbody tr th:only-of-type {\n",
       "        vertical-align: middle;\n",
       "    }\n",
       "\n",
       "    .dataframe tbody tr th {\n",
       "        vertical-align: top;\n",
       "    }\n",
       "\n",
       "    .dataframe thead th {\n",
       "        text-align: right;\n",
       "    }\n",
       "</style>\n",
       "<table border=\"1\" class=\"dataframe\">\n",
       "  <thead>\n",
       "    <tr style=\"text-align: right;\">\n",
       "      <th></th>\n",
       "      <th>index</th>\n",
       "      <th>Age</th>\n",
       "      <th>Sex</th>\n",
       "      <th>ChestPainType</th>\n",
       "      <th>RestingBP</th>\n",
       "      <th>Cholesterol</th>\n",
       "      <th>FastingBS</th>\n",
       "      <th>RestingECG</th>\n",
       "      <th>MaxHR</th>\n",
       "      <th>ExerciseAngina</th>\n",
       "      <th>Oldpeak</th>\n",
       "      <th>ST_Slope</th>\n",
       "      <th>HeartDisease</th>\n",
       "    </tr>\n",
       "  </thead>\n",
       "  <tbody>\n",
       "    <tr>\n",
       "      <th>0</th>\n",
       "      <td>0</td>\n",
       "      <td>40</td>\n",
       "      <td>M</td>\n",
       "      <td>ATA</td>\n",
       "      <td>140.0</td>\n",
       "      <td>289.0</td>\n",
       "      <td>0</td>\n",
       "      <td>Normal</td>\n",
       "      <td>172</td>\n",
       "      <td>N</td>\n",
       "      <td>0.0</td>\n",
       "      <td>Up</td>\n",
       "      <td>0</td>\n",
       "    </tr>\n",
       "    <tr>\n",
       "      <th>1</th>\n",
       "      <td>1</td>\n",
       "      <td>49</td>\n",
       "      <td>F</td>\n",
       "      <td>NAP</td>\n",
       "      <td>160.0</td>\n",
       "      <td>180.0</td>\n",
       "      <td>0</td>\n",
       "      <td>Normal</td>\n",
       "      <td>156</td>\n",
       "      <td>N</td>\n",
       "      <td>1.0</td>\n",
       "      <td>Flat</td>\n",
       "      <td>1</td>\n",
       "    </tr>\n",
       "    <tr>\n",
       "      <th>2</th>\n",
       "      <td>2</td>\n",
       "      <td>37</td>\n",
       "      <td>M</td>\n",
       "      <td>ATA</td>\n",
       "      <td>130.0</td>\n",
       "      <td>283.0</td>\n",
       "      <td>0</td>\n",
       "      <td>ST</td>\n",
       "      <td>98</td>\n",
       "      <td>N</td>\n",
       "      <td>0.0</td>\n",
       "      <td>Up</td>\n",
       "      <td>0</td>\n",
       "    </tr>\n",
       "    <tr>\n",
       "      <th>3</th>\n",
       "      <td>3</td>\n",
       "      <td>48</td>\n",
       "      <td>F</td>\n",
       "      <td>ASY</td>\n",
       "      <td>138.0</td>\n",
       "      <td>214.0</td>\n",
       "      <td>0</td>\n",
       "      <td>Normal</td>\n",
       "      <td>108</td>\n",
       "      <td>Y</td>\n",
       "      <td>1.5</td>\n",
       "      <td>Flat</td>\n",
       "      <td>1</td>\n",
       "    </tr>\n",
       "    <tr>\n",
       "      <th>4</th>\n",
       "      <td>4</td>\n",
       "      <td>54</td>\n",
       "      <td>M</td>\n",
       "      <td>NAP</td>\n",
       "      <td>150.0</td>\n",
       "      <td>195.0</td>\n",
       "      <td>0</td>\n",
       "      <td>Normal</td>\n",
       "      <td>122</td>\n",
       "      <td>N</td>\n",
       "      <td>0.0</td>\n",
       "      <td>Up</td>\n",
       "      <td>0</td>\n",
       "    </tr>\n",
       "    <tr>\n",
       "      <th>...</th>\n",
       "      <td>...</td>\n",
       "      <td>...</td>\n",
       "      <td>...</td>\n",
       "      <td>...</td>\n",
       "      <td>...</td>\n",
       "      <td>...</td>\n",
       "      <td>...</td>\n",
       "      <td>...</td>\n",
       "      <td>...</td>\n",
       "      <td>...</td>\n",
       "      <td>...</td>\n",
       "      <td>...</td>\n",
       "      <td>...</td>\n",
       "    </tr>\n",
       "    <tr>\n",
       "      <th>740</th>\n",
       "      <td>913</td>\n",
       "      <td>45</td>\n",
       "      <td>M</td>\n",
       "      <td>TA</td>\n",
       "      <td>110.0</td>\n",
       "      <td>264.0</td>\n",
       "      <td>0</td>\n",
       "      <td>Normal</td>\n",
       "      <td>132</td>\n",
       "      <td>N</td>\n",
       "      <td>1.2</td>\n",
       "      <td>Flat</td>\n",
       "      <td>1</td>\n",
       "    </tr>\n",
       "    <tr>\n",
       "      <th>741</th>\n",
       "      <td>914</td>\n",
       "      <td>68</td>\n",
       "      <td>M</td>\n",
       "      <td>ASY</td>\n",
       "      <td>144.0</td>\n",
       "      <td>193.0</td>\n",
       "      <td>1</td>\n",
       "      <td>Normal</td>\n",
       "      <td>141</td>\n",
       "      <td>N</td>\n",
       "      <td>3.4</td>\n",
       "      <td>Flat</td>\n",
       "      <td>1</td>\n",
       "    </tr>\n",
       "    <tr>\n",
       "      <th>742</th>\n",
       "      <td>915</td>\n",
       "      <td>57</td>\n",
       "      <td>M</td>\n",
       "      <td>ASY</td>\n",
       "      <td>130.0</td>\n",
       "      <td>131.0</td>\n",
       "      <td>0</td>\n",
       "      <td>Normal</td>\n",
       "      <td>115</td>\n",
       "      <td>Y</td>\n",
       "      <td>1.2</td>\n",
       "      <td>Flat</td>\n",
       "      <td>1</td>\n",
       "    </tr>\n",
       "    <tr>\n",
       "      <th>743</th>\n",
       "      <td>916</td>\n",
       "      <td>57</td>\n",
       "      <td>F</td>\n",
       "      <td>ATA</td>\n",
       "      <td>130.0</td>\n",
       "      <td>236.0</td>\n",
       "      <td>0</td>\n",
       "      <td>LVH</td>\n",
       "      <td>174</td>\n",
       "      <td>N</td>\n",
       "      <td>0.0</td>\n",
       "      <td>Flat</td>\n",
       "      <td>1</td>\n",
       "    </tr>\n",
       "    <tr>\n",
       "      <th>744</th>\n",
       "      <td>917</td>\n",
       "      <td>38</td>\n",
       "      <td>M</td>\n",
       "      <td>NAP</td>\n",
       "      <td>138.0</td>\n",
       "      <td>175.0</td>\n",
       "      <td>0</td>\n",
       "      <td>Normal</td>\n",
       "      <td>173</td>\n",
       "      <td>N</td>\n",
       "      <td>0.0</td>\n",
       "      <td>Up</td>\n",
       "      <td>0</td>\n",
       "    </tr>\n",
       "  </tbody>\n",
       "</table>\n",
       "<p>745 rows × 13 columns</p>\n",
       "</div>"
      ],
      "text/plain": [
       "     index  Age Sex ChestPainType  RestingBP  Cholesterol  FastingBS  \\\n",
       "0        0   40   M           ATA      140.0        289.0          0   \n",
       "1        1   49   F           NAP      160.0        180.0          0   \n",
       "2        2   37   M           ATA      130.0        283.0          0   \n",
       "3        3   48   F           ASY      138.0        214.0          0   \n",
       "4        4   54   M           NAP      150.0        195.0          0   \n",
       "..     ...  ...  ..           ...        ...          ...        ...   \n",
       "740    913   45   M            TA      110.0        264.0          0   \n",
       "741    914   68   M           ASY      144.0        193.0          1   \n",
       "742    915   57   M           ASY      130.0        131.0          0   \n",
       "743    916   57   F           ATA      130.0        236.0          0   \n",
       "744    917   38   M           NAP      138.0        175.0          0   \n",
       "\n",
       "    RestingECG  MaxHR ExerciseAngina  Oldpeak ST_Slope  HeartDisease  \n",
       "0       Normal    172              N      0.0       Up             0  \n",
       "1       Normal    156              N      1.0     Flat             1  \n",
       "2           ST     98              N      0.0       Up             0  \n",
       "3       Normal    108              Y      1.5     Flat             1  \n",
       "4       Normal    122              N      0.0       Up             0  \n",
       "..         ...    ...            ...      ...      ...           ...  \n",
       "740     Normal    132              N      1.2     Flat             1  \n",
       "741     Normal    141              N      3.4     Flat             1  \n",
       "742     Normal    115              Y      1.2     Flat             1  \n",
       "743        LVH    174              N      0.0     Flat             1  \n",
       "744     Normal    173              N      0.0       Up             0  \n",
       "\n",
       "[745 rows x 13 columns]"
      ]
     },
     "execution_count": 61,
     "metadata": {},
     "output_type": "execute_result"
    }
   ],
   "source": [
    "df = df.reset_index()\n",
    "df"
   ]
  },
  {
   "cell_type": "markdown",
   "id": "d0cc500f",
   "metadata": {},
   "source": [
    "### Poin Penting\n",
    "* data ini diambil dari populasi orang dewasa dengan minimal umur 28\n",
    "* rata-rata kolesterol ada di angka 244 yang termasuk kategori kolesterol tinggi\n",
    "* data MaxHR berada di kisaran 69-202 (masih berada pada kisaran normal)"
   ]
  },
  {
   "cell_type": "markdown",
   "id": "44c1f1d9",
   "metadata": {},
   "source": [
    "# 3. Data Exploration"
   ]
  },
  {
   "cell_type": "code",
   "execution_count": 62,
   "id": "09c067b6",
   "metadata": {
    "scrolled": true
   },
   "outputs": [
    {
     "data": {
      "text/html": [
       "<div>\n",
       "<style scoped>\n",
       "    .dataframe tbody tr th:only-of-type {\n",
       "        vertical-align: middle;\n",
       "    }\n",
       "\n",
       "    .dataframe tbody tr th {\n",
       "        vertical-align: top;\n",
       "    }\n",
       "\n",
       "    .dataframe thead th {\n",
       "        text-align: right;\n",
       "    }\n",
       "</style>\n",
       "<table border=\"1\" class=\"dataframe\">\n",
       "  <thead>\n",
       "    <tr style=\"text-align: right;\">\n",
       "      <th></th>\n",
       "      <th>index</th>\n",
       "      <th>Age</th>\n",
       "      <th>RestingBP</th>\n",
       "      <th>Cholesterol</th>\n",
       "      <th>FastingBS</th>\n",
       "      <th>MaxHR</th>\n",
       "      <th>Oldpeak</th>\n",
       "    </tr>\n",
       "    <tr>\n",
       "      <th>HeartDisease</th>\n",
       "      <th></th>\n",
       "      <th></th>\n",
       "      <th></th>\n",
       "      <th></th>\n",
       "      <th></th>\n",
       "      <th></th>\n",
       "      <th></th>\n",
       "    </tr>\n",
       "  </thead>\n",
       "  <tbody>\n",
       "    <tr>\n",
       "      <th>0</th>\n",
       "      <td>444.164524</td>\n",
       "      <td>50.210797</td>\n",
       "      <td>130.182519</td>\n",
       "      <td>238.969152</td>\n",
       "      <td>0.110540</td>\n",
       "      <td>149.048843</td>\n",
       "      <td>0.395116</td>\n",
       "    </tr>\n",
       "    <tr>\n",
       "      <th>1</th>\n",
       "      <td>509.623596</td>\n",
       "      <td>55.851124</td>\n",
       "      <td>136.154494</td>\n",
       "      <td>251.061798</td>\n",
       "      <td>0.230337</td>\n",
       "      <td>130.550562</td>\n",
       "      <td>1.457865</td>\n",
       "    </tr>\n",
       "  </tbody>\n",
       "</table>\n",
       "</div>"
      ],
      "text/plain": [
       "                   index        Age   RestingBP  Cholesterol  FastingBS  \\\n",
       "HeartDisease                                                              \n",
       "0             444.164524  50.210797  130.182519   238.969152   0.110540   \n",
       "1             509.623596  55.851124  136.154494   251.061798   0.230337   \n",
       "\n",
       "                   MaxHR   Oldpeak  \n",
       "HeartDisease                        \n",
       "0             149.048843  0.395116  \n",
       "1             130.550562  1.457865  "
      ]
     },
     "execution_count": 62,
     "metadata": {},
     "output_type": "execute_result"
    }
   ],
   "source": [
    "df.groupby(\"HeartDisease\").mean()"
   ]
  },
  {
   "cell_type": "markdown",
   "id": "f9f693f6",
   "metadata": {},
   "source": [
    "* Orang yang menderita penyakit jantung rata-rata sedikit lebih tua dari orang normal\n",
    "* Orang yang menderita penyakit jantung cenderung memiliki FastingBS dan nilai Oldpeak yang signifikan lebih tinggi dari orang normal, dapat menjadi indikasi bahwa nilai FastingBS dan Oldpeak yang tinggi berpengaruh ke penyakit jantung\n",
    "* MaxHR orang yang menderita penyakit jantung cenderung lebih rendah dari orang normal"
   ]
  },
  {
   "cell_type": "code",
   "execution_count": 63,
   "id": "c11c8d97",
   "metadata": {},
   "outputs": [
    {
     "name": "stderr",
     "output_type": "stream",
     "text": [
      "<ipython-input-63-3b7dd5d099ce>:2: DeprecationWarning: The default dtype for empty Series will be 'object' instead of 'float64' in a future version. Specify a dtype explicitly to silence this warning.\n",
      "  count_sex = pd.Series([])\n"
     ]
    },
    {
     "data": {
      "text/plain": [
       "Laki-Laki    563\n",
       "Perempuan    182\n",
       "Name: Jenis kelamin, dtype: int64"
      ]
     },
     "execution_count": 63,
     "metadata": {},
     "output_type": "execute_result"
    }
   ],
   "source": [
    "# Hitung jumlah laki-Laki dan perempuan\n",
    "count_sex = pd.Series([])\n",
    "\n",
    "for i in range(len(df)):\n",
    "    if(df['Sex'][i] == \"M\"):\n",
    "        count_sex[i] = \"Laki-Laki\"\n",
    "    elif(df['Sex'][i] == \"F\"):\n",
    "        count_sex[i] = \"Perempuan\"\n",
    "        \n",
    "df.insert(2,\"Jenis kelamin\", count_sex)\n",
    "df['Jenis kelamin'].value_counts()"
   ]
  },
  {
   "cell_type": "code",
   "execution_count": 64,
   "id": "5a71396f",
   "metadata": {},
   "outputs": [
    {
     "name": "stderr",
     "output_type": "stream",
     "text": [
      "<ipython-input-64-6557a42f0f91>:1: DeprecationWarning: The default dtype for empty Series will be 'object' instead of 'float64' in a future version. Specify a dtype explicitly to silence this warning.\n",
      "  cholesterol_status = pd.Series([])\n"
     ]
    },
    {
     "data": {
      "text/plain": [
       "Tinggi                 363\n",
       "Ambang Batas Tinggi    237\n",
       "Normal                 145\n",
       "Name: Cholesterol Status, dtype: int64"
      ]
     },
     "execution_count": 64,
     "metadata": {},
     "output_type": "execute_result"
    }
   ],
   "source": [
    "cholesterol_status = pd.Series([])\n",
    "\n",
    "for i in range(len(df)):\n",
    "    if df[\"Cholesterol\"][i] < 200:\n",
    "        cholesterol_status[i] = \"Normal\"\n",
    "    elif df[\"Cholesterol\"][i] >= 200 and df[\"Cholesterol\"][i] < 240: \n",
    "        cholesterol_status[i] = \"Ambang Batas Tinggi\"\n",
    "    elif df[\"Cholesterol\"][i] >= 240:\n",
    "        cholesterol_status[i] = \"Tinggi\"\n",
    "        \n",
    "df.insert(3, \"Cholesterol Status\", cholesterol_status)\n",
    "df['Cholesterol Status'].value_counts()"
   ]
  },
  {
   "cell_type": "code",
   "execution_count": 65,
   "id": "87e8ebb5",
   "metadata": {},
   "outputs": [
    {
     "name": "stderr",
     "output_type": "stream",
     "text": [
      "<ipython-input-65-1445320166eb>:2: DeprecationWarning: The default dtype for empty Series will be 'object' instead of 'float64' in a future version. Specify a dtype explicitly to silence this warning.\n",
      "  count_NormalHB = pd.Series([])\n"
     ]
    },
    {
     "data": {
      "text/plain": [
       "Tidak Normal    379\n",
       "Normal          366\n",
       "Name: Maximum, dtype: int64"
      ]
     },
     "execution_count": 65,
     "metadata": {},
     "output_type": "execute_result"
    }
   ],
   "source": [
    "#menghitung detak jantung maximal per menit yang normal berdasarkan umur\n",
    "count_NormalHB = pd.Series([])\n",
    "\n",
    "for i in range(len(df)):\n",
    "    \n",
    "    if(df['Age'][i] > 20 and df['Age'][i] <= 30):\n",
    "        if(df['MaxHR'][i] >= 140 and df['MaxHR'][i] <= 170):\n",
    "            count_NormalHB[i] = \"Normal\"\n",
    "        else:\n",
    "            count_NormalHB[i] = \"Tidak Normal\"\n",
    "    if(df['Age'][i] > 30 and df['Age'][i] <= 40):\n",
    "        if(df['MaxHR'][i] >= 100 and df['MaxHR'][i] <= 170):\n",
    "            count_NormalHB[i] = \"Normal\"\n",
    "        else:\n",
    "            count_NormalHB[i] = \"Tidak Normal\"\n",
    "        \n",
    "    if(df['Age'][i] > 40 and df['Age'][i] <= 50):\n",
    "        if(df['MaxHR'][i] >= 90 and df['MaxHR'][i] <= 153):\n",
    "            count_NormalHB[i] = \"Normal\"\n",
    "        else:\n",
    "            count_NormalHB[i] = \"Tidak Normal\"\n",
    "        \n",
    "    if(df['Age'][i] > 50 and df['Age'][i] <= 60):\n",
    "        if(df['MaxHR'][i] >= 80 and df['MaxHR'][i] <= 136):\n",
    "            count_NormalHB[i] = \"Normal\"\n",
    "        else:\n",
    "            count_NormalHB[i] = \"Tidak Normal\"\n",
    "        \n",
    "    if(df['Age'][i] > 60 and df['Age'][i] <= 70):\n",
    "        if(df['MaxHR'][i] >= 75 and df['MaxHR'][i] <= 128):\n",
    "            count_NormalHB[i] = \"Normal\"\n",
    "        else:\n",
    "            count_NormalHB[i] = \"Tidak Normal\"\n",
    "    \n",
    "    if(df['Age'][i] > 70):\n",
    "        if(df['MaxHR'][i] >= 60 and df['MaxHR'][i] <= 100):\n",
    "            count_NormalHB[i] = \"Normal\"\n",
    "        else:\n",
    "            count_NormalHB[i] = \"Tidak Normal\"\n",
    "        \n",
    "df.insert(2,\"Maximum\", count_NormalHB)\n",
    "df['Maximum'].value_counts()"
   ]
  },
  {
   "cell_type": "code",
   "execution_count": 66,
   "id": "ae3dcee9",
   "metadata": {},
   "outputs": [
    {
     "name": "stderr",
     "output_type": "stream",
     "text": [
      "<ipython-input-66-e785ad9f1855>:1: DeprecationWarning: The default dtype for empty Series will be 'object' instead of 'float64' in a future version. Specify a dtype explicitly to silence this warning.\n",
      "  count_heartD = pd.Series([])\n"
     ]
    },
    {
     "data": {
      "text/plain": [
       "Tidak Punya Penyakit Jantung    389\n",
       "Punya Penyakit Jantung          356\n",
       "Name: Banyaknya Yang Punya Penyakit Jantung, dtype: int64"
      ]
     },
     "execution_count": 66,
     "metadata": {},
     "output_type": "execute_result"
    }
   ],
   "source": [
    "count_heartD = pd.Series([])\n",
    "\n",
    "for i in range(len(df)):\n",
    "    \n",
    "    if (df['HeartDisease'][i] == 1):\n",
    "        count_heartD[i] = \"Punya Penyakit Jantung\"\n",
    "    if (df['HeartDisease'][i] == 0):\n",
    "        count_heartD[i] = \"Tidak Punya Penyakit Jantung\"   \n",
    "        \n",
    "df.insert(2,\"Banyaknya Yang Punya Penyakit Jantung\", count_heartD)\n",
    "df['Banyaknya Yang Punya Penyakit Jantung'].value_counts()"
   ]
  },
  {
   "cell_type": "markdown",
   "id": "f24870cb",
   "metadata": {},
   "source": [
    "# 4. Data Distribution"
   ]
  },
  {
   "cell_type": "code",
   "execution_count": 33,
   "id": "7d1ea7a9",
   "metadata": {},
   "outputs": [
    {
     "data": {
      "image/png": "[encoded data removed]",
      "text/plain": [
       "<Figure size 1440x1080 with 9 Axes>"
      ]
     },
     "metadata": {
      "needs_background": "light"
     },
     "output_type": "display_data"
    }
   ],
   "source": [
    "df.hist(bins=50, figsize=(20, 15))\n",
    "plt.show()"
   ]
  },
  {
   "cell_type": "code",
   "execution_count": 34,
   "id": "06c55ef5",
   "metadata": {},
   "outputs": [
    {
     "data": {
      "image/png": "[encoded data removed]",
      "text/plain": [
       "<Figure size 1440x1080 with 9 Axes>"
      ]
     },
     "metadata": {
      "needs_background": "light"
     },
     "output_type": "display_data"
    }
   ],
   "source": [
    "df.plot(kind='density', subplots=True, layout=(3,3), figsize=(20, 15), sharex=False)\n",
    "plt.show()"
   ]
  },
  {
   "cell_type": "code",
   "execution_count": 35,
   "id": "03235482",
   "metadata": {},
   "outputs": [
    {
     "data": {
      "text/plain": [
       "<AxesSubplot:title={'center':'Perbandingan Gender'}, ylabel='Sex'>"
      ]
     },
     "execution_count": 35,
     "metadata": {},
     "output_type": "execute_result"
    },
    {
     "data": {
      "image/png": "[encoded data removed]",
      "text/plain": [
       "<Figure size 432x288 with 1 Axes>"
      ]
     },
     "metadata": {},
     "output_type": "display_data"
    }
   ],
   "source": [
    "df[\"Sex\"].value_counts().plot(kind=\"pie\", title=\"Perbandingan Gender\")"
   ]
  },
  {
   "cell_type": "code",
   "execution_count": 36,
   "id": "83b94953",
   "metadata": {},
   "outputs": [
    {
     "data": {
      "text/plain": [
       "<AxesSubplot:>"
      ]
     },
     "execution_count": 36,
     "metadata": {},
     "output_type": "execute_result"
    },
    {
     "data": {
      "image/png": "[encoded data removed]",
      "text/plain": [
       "<Figure size 432x288 with 1 Axes>"
      ]
     },
     "metadata": {
      "needs_background": "light"
     },
     "output_type": "display_data"
    }
   ],
   "source": [
    "df[\"ChestPainType\"].hist(grid=False, edgecolor='black')"
   ]
  },
  {
   "cell_type": "code",
   "execution_count": 37,
   "id": "554efc1c",
   "metadata": {},
   "outputs": [
    {
     "data": {
      "text/plain": [
       "<AxesSubplot:>"
      ]
     },
     "execution_count": 37,
     "metadata": {},
     "output_type": "execute_result"
    },
    {
     "data": {
      "image/png": "[encoded data removed]",
      "text/plain": [
       "<Figure size 432x288 with 1 Axes>"
      ]
     },
     "metadata": {
      "needs_background": "light"
     },
     "output_type": "display_data"
    }
   ],
   "source": [
    "df[\"RestingECG\"].hist(grid=False, edgecolor='black')"
   ]
  },
  {
   "cell_type": "code",
   "execution_count": 38,
   "id": "253c0e98",
   "metadata": {},
   "outputs": [
    {
     "data": {
      "text/plain": [
       "<AxesSubplot:>"
      ]
     },
     "execution_count": 38,
     "metadata": {},
     "output_type": "execute_result"
    },
    {
     "data": {
      "image/png": "[encoded data removed]",
      "text/plain": [
       "<Figure size 432x288 with 1 Axes>"
      ]
     },
     "metadata": {
      "needs_background": "light"
     },
     "output_type": "display_data"
    }
   ],
   "source": [
    "df[\"ExerciseAngina\"].hist(grid=False, edgecolor='black')"
   ]
  },
  {
   "cell_type": "code",
   "execution_count": 39,
   "id": "ed101d12",
   "metadata": {},
   "outputs": [
    {
     "data": {
      "text/plain": [
       "<AxesSubplot:>"
      ]
     },
     "execution_count": 39,
     "metadata": {},
     "output_type": "execute_result"
    },
    {
     "data": {
      "image/png": "[encoded data removed]",
      "text/plain": [
       "<Figure size 432x288 with 1 Axes>"
      ]
     },
     "metadata": {
      "needs_background": "light"
     },
     "output_type": "display_data"
    }
   ],
   "source": [
    "df[\"ST_Slope\"].hist(grid=False, edgecolor='black')"
   ]
  },
  {
   "cell_type": "markdown",
   "id": "968e096a",
   "metadata": {},
   "source": [
    "# 5. Outliers"
   ]
  },
  {
   "cell_type": "code",
   "execution_count": 40,
   "id": "4a9b3857",
   "metadata": {},
   "outputs": [
    {
     "data": {
      "text/plain": [
       "index              AxesSubplot(0.125,0.657941;0.227941x0.222059)\n",
       "Age             AxesSubplot(0.398529,0.657941;0.227941x0.222059)\n",
       "RestingBP       AxesSubplot(0.672059,0.657941;0.227941x0.222059)\n",
       "Cholesterol        AxesSubplot(0.125,0.391471;0.227941x0.222059)\n",
       "FastingBS       AxesSubplot(0.398529,0.391471;0.227941x0.222059)\n",
       "MaxHR           AxesSubplot(0.672059,0.391471;0.227941x0.222059)\n",
       "Oldpeak               AxesSubplot(0.125,0.125;0.227941x0.222059)\n",
       "HeartDisease       AxesSubplot(0.398529,0.125;0.227941x0.222059)\n",
       "dtype: object"
      ]
     },
     "execution_count": 40,
     "metadata": {},
     "output_type": "execute_result"
    },
    {
     "data": {
      "image/png": "[encoded data removed]",
      "text/plain": [
       "<Figure size 1440x1080 with 9 Axes>"
      ]
     },
     "metadata": {
      "needs_background": "light"
     },
     "output_type": "display_data"
    }
   ],
   "source": [
    "df.plot(kind= 'box' , subplots=True, layout=(3,3), sharex=False, sharey=False, figsize=(20,15))"
   ]
  },
  {
   "cell_type": "markdown",
   "id": "ad5f77d8",
   "metadata": {},
   "source": [
    "# 6. Correlation"
   ]
  },
  {
   "cell_type": "code",
   "execution_count": 45,
   "id": "31d43616",
   "metadata": {},
   "outputs": [
    {
     "data": {
      "text/html": [
       "<div>\n",
       "<style scoped>\n",
       "    .dataframe tbody tr th:only-of-type {\n",
       "        vertical-align: middle;\n",
       "    }\n",
       "\n",
       "    .dataframe tbody tr th {\n",
       "        vertical-align: top;\n",
       "    }\n",
       "\n",
       "    .dataframe thead th {\n",
       "        text-align: right;\n",
       "    }\n",
       "</style>\n",
       "<table border=\"1\" class=\"dataframe\">\n",
       "  <thead>\n",
       "    <tr style=\"text-align: right;\">\n",
       "      <th></th>\n",
       "      <th>index</th>\n",
       "      <th>Age</th>\n",
       "      <th>RestingBP</th>\n",
       "      <th>Cholesterol</th>\n",
       "      <th>FastingBS</th>\n",
       "      <th>MaxHR</th>\n",
       "      <th>Oldpeak</th>\n",
       "      <th>HeartDisease</th>\n",
       "    </tr>\n",
       "  </thead>\n",
       "  <tbody>\n",
       "    <tr>\n",
       "      <th>index</th>\n",
       "      <td>1.000000</td>\n",
       "      <td>0.339182</td>\n",
       "      <td>0.005836</td>\n",
       "      <td>-0.010960</td>\n",
       "      <td>0.112424</td>\n",
       "      <td>0.154943</td>\n",
       "      <td>0.199881</td>\n",
       "      <td>0.112698</td>\n",
       "    </tr>\n",
       "    <tr>\n",
       "      <th>Age</th>\n",
       "      <td>0.339182</td>\n",
       "      <td>1.000000</td>\n",
       "      <td>0.259074</td>\n",
       "      <td>0.055390</td>\n",
       "      <td>0.240810</td>\n",
       "      <td>-0.381774</td>\n",
       "      <td>0.284489</td>\n",
       "      <td>0.297092</td>\n",
       "    </tr>\n",
       "    <tr>\n",
       "      <th>RestingBP</th>\n",
       "      <td>0.005836</td>\n",
       "      <td>0.259074</td>\n",
       "      <td>1.000000</td>\n",
       "      <td>0.094986</td>\n",
       "      <td>0.173478</td>\n",
       "      <td>-0.125419</td>\n",
       "      <td>0.198008</td>\n",
       "      <td>0.172642</td>\n",
       "    </tr>\n",
       "    <tr>\n",
       "      <th>Cholesterol</th>\n",
       "      <td>-0.010960</td>\n",
       "      <td>0.055390</td>\n",
       "      <td>0.094986</td>\n",
       "      <td>1.000000</td>\n",
       "      <td>0.053239</td>\n",
       "      <td>-0.018895</td>\n",
       "      <td>0.056824</td>\n",
       "      <td>0.102251</td>\n",
       "    </tr>\n",
       "    <tr>\n",
       "      <th>FastingBS</th>\n",
       "      <td>0.112424</td>\n",
       "      <td>0.240810</td>\n",
       "      <td>0.173478</td>\n",
       "      <td>0.053239</td>\n",
       "      <td>1.000000</td>\n",
       "      <td>-0.102428</td>\n",
       "      <td>0.055045</td>\n",
       "      <td>0.160138</td>\n",
       "    </tr>\n",
       "    <tr>\n",
       "      <th>MaxHR</th>\n",
       "      <td>0.154943</td>\n",
       "      <td>-0.381774</td>\n",
       "      <td>-0.125419</td>\n",
       "      <td>-0.018895</td>\n",
       "      <td>-0.102428</td>\n",
       "      <td>1.000000</td>\n",
       "      <td>-0.259078</td>\n",
       "      <td>-0.376843</td>\n",
       "    </tr>\n",
       "    <tr>\n",
       "      <th>Oldpeak</th>\n",
       "      <td>0.199881</td>\n",
       "      <td>0.284489</td>\n",
       "      <td>0.198008</td>\n",
       "      <td>0.056824</td>\n",
       "      <td>0.055045</td>\n",
       "      <td>-0.259078</td>\n",
       "      <td>1.000000</td>\n",
       "      <td>0.495091</td>\n",
       "    </tr>\n",
       "    <tr>\n",
       "      <th>HeartDisease</th>\n",
       "      <td>0.112698</td>\n",
       "      <td>0.297092</td>\n",
       "      <td>0.172642</td>\n",
       "      <td>0.102251</td>\n",
       "      <td>0.160138</td>\n",
       "      <td>-0.376843</td>\n",
       "      <td>0.495091</td>\n",
       "      <td>1.000000</td>\n",
       "    </tr>\n",
       "  </tbody>\n",
       "</table>\n",
       "</div>"
      ],
      "text/plain": [
       "                 index       Age  RestingBP  Cholesterol  FastingBS     MaxHR  \\\n",
       "index         1.000000  0.339182   0.005836    -0.010960   0.112424  0.154943   \n",
       "Age           0.339182  1.000000   0.259074     0.055390   0.240810 -0.381774   \n",
       "RestingBP     0.005836  0.259074   1.000000     0.094986   0.173478 -0.125419   \n",
       "Cholesterol  -0.010960  0.055390   0.094986     1.000000   0.053239 -0.018895   \n",
       "FastingBS     0.112424  0.240810   0.173478     0.053239   1.000000 -0.102428   \n",
       "MaxHR         0.154943 -0.381774  -0.125419    -0.018895  -0.102428  1.000000   \n",
       "Oldpeak       0.199881  0.284489   0.198008     0.056824   0.055045 -0.259078   \n",
       "HeartDisease  0.112698  0.297092   0.172642     0.102251   0.160138 -0.376843   \n",
       "\n",
       "               Oldpeak  HeartDisease  \n",
       "index         0.199881      0.112698  \n",
       "Age           0.284489      0.297092  \n",
       "RestingBP     0.198008      0.172642  \n",
       "Cholesterol   0.056824      0.102251  \n",
       "FastingBS     0.055045      0.160138  \n",
       "MaxHR        -0.259078     -0.376843  \n",
       "Oldpeak       1.000000      0.495091  \n",
       "HeartDisease  0.495091      1.000000  "
      ]
     },
     "execution_count": 45,
     "metadata": {},
     "output_type": "execute_result"
    }
   ],
   "source": [
    "corr = df.corr(method='pearson')\n",
    "corr"
   ]
  },
  {
   "cell_type": "code",
   "execution_count": 46,
   "id": "d9771fff",
   "metadata": {
    "scrolled": true
   },
   "outputs": [
    {
     "data": {
      "text/plain": [
       "<AxesSubplot:>"
      ]
     },
     "execution_count": 46,
     "metadata": {},
     "output_type": "execute_result"
    },
    {
     "data": {
      "image/png": "[encoded data removed]",
      "text/plain": [
       "<Figure size 432x288 with 2 Axes>"
      ]
     },
     "metadata": {
      "needs_background": "light"
     },
     "output_type": "display_data"
    }
   ],
   "source": [
    "sns.heatmap(corr, annot = True)"
   ]
  },
  {
   "cell_type": "markdown",
   "id": "3bb54071",
   "metadata": {},
   "source": [
    "* Oldpeak memiliki korelasi terkuat dengan HeartDisease, karena itu orang dengan nilai Oldpeak tinggi harus waspada terhadap penyakit jantung\n",
    "* MaxHR memiliki korelasi negatif terhadap HeartDisease, yang berarti semakin rendah MaxHR seseorang maka semakin besar kemungkinan terkena HeartDisease"
   ]
  },
  {
   "cell_type": "code",
   "execution_count": null,
   "id": "10032355",
   "metadata": {},
   "outputs": [],
   "source": []
  },
  {
   "cell_type": "code",
   "execution_count": null,
   "id": "126d7b64",
   "metadata": {},
   "outputs": [],
   "source": []
  }
 ],
 "metadata": {
  "kernelspec": {
   "display_name": "Python 3 (ipykernel)",
   "language": "python",
   "name": "python3"
  },
  "language_info": {
   "codemirror_mode": {
    "name": "ipython",
    "version": 3
   },
   "file_extension": ".py",
   "mimetype": "text/x-python",
   "name": "python",
   "nbconvert_exporter": "python",
   "pygments_lexer": "ipython3",
   "version": "3.9.7"
  }
 },
 "nbformat": 4,
 "nbformat_minor": 5
}
